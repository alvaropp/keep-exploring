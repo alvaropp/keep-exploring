{
 "cells": [
  {
   "cell_type": "code",
   "execution_count": null,
   "metadata": {},
   "outputs": [],
   "source": [
    "%load_ext nb_black\n",
    "%load_ext autoreload\n",
    "%autoreload 2"
   ]
  },
  {
   "cell_type": "code",
   "execution_count": null,
   "metadata": {},
   "outputs": [],
   "source": [
    "from datetime import date\n",
    "from glob import glob\n",
    "from os.path import join\n",
    "\n",
    "import branca.colormap as cm\n",
    "import gpxpy\n",
    "import folium\n",
    "import numpy as np\n",
    "import pandas as pd\n",
    "from bs4 import BeautifulSoup\n",
    "from folium.plugins import HeatMap\n",
    "from scipy.linalg import norm\n",
    "from shapely.geometry import Point, Polygon"
   ]
  },
  {
   "cell_type": "code",
   "execution_count": null,
   "metadata": {},
   "outputs": [],
   "source": [
    "import sys\n",
    "\n",
    "sys.path.insert(1, \"../src/\")\n",
    "\n",
    "from mapping import (\n",
    "    load_gpx,\n",
    "    update_html_style_and_title,\n",
    ")"
   ]
  },
  {
   "cell_type": "markdown",
   "metadata": {},
   "source": [
    "## Plot"
   ]
  },
  {
   "cell_type": "code",
   "execution_count": null,
   "metadata": {},
   "outputs": [],
   "source": [
    "route_path = \"../gpx/\"\n",
    "output_path = \"../output/\"\n",
    "index_path = \"../\""
   ]
  },
  {
   "cell_type": "code",
   "execution_count": null,
   "metadata": {},
   "outputs": [],
   "source": [
    "m = folium.Map(location=[51.2412, -0.5744], zoom_start=11,)"
   ]
  },
  {
   "cell_type": "code",
   "execution_count": null,
   "metadata": {},
   "outputs": [],
   "source": [
    "borough_json = folium.GeoJson(\n",
    "    \"https://findthatpostcode.uk/areas/E07000209.geojson\",\n",
    "    name=\"geojson\",\n",
    "    style_function=lambda x: {\"fillColor\": \"#00000000\", \"color\": \"black\", \"weight\": 3,},\n",
    ")\n",
    "borough_json.add_to(m)"
   ]
  },
  {
   "cell_type": "code",
   "execution_count": null,
   "metadata": {},
   "outputs": [],
   "source": [
    "borough_polygon = Polygon(\n",
    "    np.array(borough_json.data[\"features\"][0][\"geometry\"][\"coordinates\"][0])[:, ::-1]\n",
    ")"
   ]
  },
  {
   "cell_type": "code",
   "execution_count": null,
   "metadata": {},
   "outputs": [],
   "source": [
    "# Add each route\n",
    "all_routes = sorted(glob(join(route_path, \"*.gpx\")))\n",
    "for route in all_routes:\n",
    "    points = load_gpx(route)\n",
    "    segments = compute_segments_in_borough(points, borough_polygon)\n",
    "    for segment in segments:\n",
    "        folium.PolyLine(segment, color=\"red\", weight=2).add_to(m)"
   ]
  },
  {
   "cell_type": "code",
   "execution_count": null,
   "metadata": {
    "scrolled": false
   },
   "outputs": [],
   "source": [
    "m"
   ]
  },
  {
   "cell_type": "code",
   "execution_count": null,
   "metadata": {},
   "outputs": [],
   "source": []
  }
 ],
 "metadata": {
  "kernelspec": {
   "display_name": "Python 3",
   "language": "python",
   "name": "python3"
  },
  "language_info": {
   "codemirror_mode": {
    "name": "ipython",
    "version": 3
   },
   "file_extension": ".py",
   "mimetype": "text/x-python",
   "name": "python",
   "nbconvert_exporter": "python",
   "pygments_lexer": "ipython3",
   "version": "3.7.4"
  }
 },
 "nbformat": 4,
 "nbformat_minor": 4
}
