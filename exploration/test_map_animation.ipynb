{
 "cells": [
  {
   "cell_type": "code",
   "execution_count": null,
   "metadata": {},
   "outputs": [],
   "source": [
    "%load_ext nb_black\n",
    "%load_ext autoreload\n",
    "%autoreload 2"
   ]
  },
  {
   "cell_type": "code",
   "execution_count": null,
   "metadata": {},
   "outputs": [],
   "source": [
    "from collections import deque\n",
    "from datetime import date\n",
    "from glob import glob\n",
    "from itertools import zip_longest\n",
    "from os import system\n",
    "from os.path import join\n",
    "from time import sleep\n",
    "\n",
    "import branca.colormap as cm\n",
    "import gpxpy\n",
    "import folium\n",
    "import matplotlib.pyplot as plt\n",
    "import mplleaflet\n",
    "import numpy as np\n",
    "import pandas as pd\n",
    "from bs4 import BeautifulSoup\n",
    "from folium.plugins import HeatMap\n",
    "from scipy.linalg import norm\n",
    "from selenium import webdriver\n",
    "from tqdm.auto import tqdm, trange"
   ]
  },
  {
   "cell_type": "code",
   "execution_count": null,
   "metadata": {},
   "outputs": [],
   "source": [
    "import sys\n",
    "\n",
    "sys.path.insert(1, \"../src/\")\n",
    "from mapping import load_gpx"
   ]
  },
  {
   "cell_type": "code",
   "execution_count": null,
   "metadata": {},
   "outputs": [],
   "source": [
    "def chunks(iterable, chunk_size=3, overlap=0):\n",
    "    # https://stackoverflow.com/questions/36586897/splitting-a-python-list-into-a-list-of-overlapping-chunks\n",
    "    # we'll use a deque to hold the values because it automatically\n",
    "    # discards any extraneous elements if it grows too large\n",
    "    if chunk_size < 1:\n",
    "        raise Exception(\"chunk size too small\")\n",
    "    if overlap >= chunk_size:\n",
    "        raise Exception(\"overlap too large\")\n",
    "    queue = deque(maxlen=chunk_size)\n",
    "    it = iter(iterable)\n",
    "    i = 0\n",
    "    try:\n",
    "        # start by filling the queue with the first group\n",
    "        for i in range(chunk_size):\n",
    "            queue.append(next(it))\n",
    "        while True:\n",
    "            yield tuple(queue)\n",
    "            # after yielding a chunk, get enough elements for the next chunk\n",
    "            for i in range(chunk_size - overlap):\n",
    "                queue.append(next(it))\n",
    "    except StopIteration:\n",
    "        # if the iterator is exhausted, yield any remaining elements\n",
    "        i += overlap\n",
    "        if i > 0:\n",
    "            yield tuple(queue)[-i:]"
   ]
  },
  {
   "cell_type": "markdown",
   "metadata": {},
   "source": [
    "## Load routes"
   ]
  },
  {
   "cell_type": "code",
   "execution_count": null,
   "metadata": {},
   "outputs": [],
   "source": [
    "route_path = \"../gpx/\""
   ]
  },
  {
   "cell_type": "code",
   "execution_count": null,
   "metadata": {},
   "outputs": [],
   "source": [
    "data_files = sorted(glob(join(route_path, \"*.gpx\")))\n",
    "data_files"
   ]
  },
  {
   "cell_type": "markdown",
   "metadata": {},
   "source": [
    "## Find final bounds"
   ]
  },
  {
   "cell_type": "code",
   "execution_count": null,
   "metadata": {},
   "outputs": [],
   "source": [
    "m = folium.Map(\n",
    "    location=[51.236, -0.5644],\n",
    "    zoom_start=14,\n",
    "    tiles=\"https://server.arcgisonline.com/ArcGIS/rest/services/Canvas/World_Light_Gray_Base/MapServer/tile/{z}/{y}/{x}\",\n",
    "    attr=\"Tiles &copy; Esri &mdash; Esri, DeLorme, NAVTEQ\",\n",
    ")"
   ]
  },
  {
   "cell_type": "code",
   "execution_count": null,
   "metadata": {},
   "outputs": [],
   "source": [
    "for idx, route_file in enumerate(data_files):\n",
    "    route = load_gpx(route_file)\n",
    "    folium.PolyLine(route, color=\"black\", weight=1).add_to(m)"
   ]
  },
  {
   "cell_type": "code",
   "execution_count": null,
   "metadata": {},
   "outputs": [],
   "source": [
    "final_bounds = m.get_bounds()"
   ]
  },
  {
   "cell_type": "markdown",
   "metadata": {},
   "source": [
    "## Create screenshots"
   ]
  },
  {
   "cell_type": "code",
   "execution_count": null,
   "metadata": {},
   "outputs": [],
   "source": [
    "output_path = \"../screenshots/\""
   ]
  },
  {
   "cell_type": "code",
   "execution_count": null,
   "metadata": {},
   "outputs": [],
   "source": [
    "options = webdriver.ChromeOptions()\n",
    "options.add_argument(\"headless\")\n",
    "options.add_argument(\"window-size=1280x720\")  # optional\n",
    "\n",
    "driver = webdriver.Chrome(\n",
    "    executable_path=\"/usr/local/bin/chromedriver\", options=options\n",
    ")"
   ]
  },
  {
   "cell_type": "code",
   "execution_count": null,
   "metadata": {},
   "outputs": [],
   "source": [
    "n_points_per_go = 10"
   ]
  },
  {
   "cell_type": "code",
   "execution_count": null,
   "metadata": {},
   "outputs": [],
   "source": [
    "m = folium.Map(\n",
    "    location=[51.236, -0.5644],\n",
    "    zoom_start=14,\n",
    "    tiles=\"https://server.arcgisonline.com/ArcGIS/rest/services/Canvas/World_Light_Gray_Base/MapServer/tile/{z}/{y}/{x}\",\n",
    "    attr=\"Tiles &copy; Esri &mdash; Esri, DeLorme, NAVTEQ\",\n",
    ")\n",
    "\n",
    "m.fit_bounds(final_bounds)\n",
    "\n",
    "idx = 0\n",
    "for route_file in tqdm(data_files):\n",
    "    route = np.array(load_gpx(route_file))\n",
    "\n",
    "    for segment in tqdm(list(chunks(route, n_points_per_go, 1))):\n",
    "        folium.PolyLine(segment, color=\"black\", weight=1).add_to(m)\n",
    "\n",
    "        m.save(\"../screenshots/map.html\")\n",
    "        driver.get(\n",
    "            \"file:///Users/alvaroperez/Desktop/keep-exploring/screenshots/map.html\"\n",
    "        )\n",
    "        sleep(0.5)\n",
    "        driver.save_screenshot(\n",
    "            f\"/Users/alvaroperez/Desktop/keep-exploring/screenshots/{idx}.png\"\n",
    "        )\n",
    "        idx += 1\n",
    "\n",
    "driver.quit()"
   ]
  },
  {
   "cell_type": "markdown",
   "metadata": {},
   "source": [
    "## Make video"
   ]
  },
  {
   "cell_type": "code",
   "execution_count": null,
   "metadata": {},
   "outputs": [],
   "source": [
    "system(\n",
    "    \"ffmpeg -r 15 -i ../screenshots/%01d.png -c:v libx264 -preset veryslow -crf 0 ../screenshots/video.mp4\"\n",
    ")"
   ]
  },
  {
   "cell_type": "code",
   "execution_count": null,
   "metadata": {},
   "outputs": [],
   "source": []
  }
 ],
 "metadata": {
  "kernelspec": {
   "display_name": "Python 3",
   "language": "python",
   "name": "python3"
  },
  "language_info": {
   "codemirror_mode": {
    "name": "ipython",
    "version": 3
   },
   "file_extension": ".py",
   "mimetype": "text/x-python",
   "name": "python",
   "nbconvert_exporter": "python",
   "pygments_lexer": "ipython3",
   "version": "3.7.4"
  }
 },
 "nbformat": 4,
 "nbformat_minor": 4
}
