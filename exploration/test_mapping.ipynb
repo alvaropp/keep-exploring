{
 "cells": [
  {
   "cell_type": "code",
   "execution_count": null,
   "metadata": {},
   "outputs": [],
   "source": [
    "%load_ext nb_black"
   ]
  },
  {
   "cell_type": "code",
   "execution_count": null,
   "metadata": {},
   "outputs": [],
   "source": [
    "from datetime import date\n",
    "from glob import glob\n",
    "\n",
    "import branca.colormap as cm\n",
    "import gpxpy\n",
    "import folium\n",
    "import numpy as np\n",
    "import pandas as pd\n",
    "from bs4 import BeautifulSoup\n",
    "from folium.plugins import HeatMap\n",
    "from scipy.linalg import norm"
   ]
  },
  {
   "cell_type": "markdown",
   "metadata": {},
   "source": [
    "## Aux functions"
   ]
  },
  {
   "cell_type": "code",
   "execution_count": null,
   "metadata": {},
   "outputs": [],
   "source": [
    "def load_gpx(file_path):\n",
    "    with open(file_path, \"r\") as gpx_file:\n",
    "        gpx = gpxpy.parse(gpx_file)\n",
    "        points = []\n",
    "        for track in gpx.tracks:\n",
    "            for segment in track.segments:\n",
    "                for point in segment.points:\n",
    "                    points.append(tuple([point.latitude, point.longitude]))\n",
    "        return points"
   ]
  },
  {
   "cell_type": "code",
   "execution_count": null,
   "metadata": {},
   "outputs": [],
   "source": [
    "def compute_intensity(pos, pos_list, radius):\n",
    "    return (norm(np.array(pos_list) - np.array(pos), axis=1) < radius).sum()"
   ]
  },
  {
   "cell_type": "code",
   "execution_count": null,
   "metadata": {},
   "outputs": [],
   "source": [
    "def load_all_routes():\n",
    "    all_pos = []\n",
    "    for file in glob(\"../gpx/*.gpx\"):\n",
    "        route = load_gpx(file)\n",
    "        all_pos.extend(route)\n",
    "    return all_pos\n",
    "\n",
    "\n",
    "def compute_colours(all_pos):\n",
    "    colours = [compute_intensity(pos, all_pos, 1e-4) for pos in all_pos]\n",
    "    colours /= max(colours)\n",
    "    return colours"
   ]
  },
  {
   "cell_type": "code",
   "execution_count": null,
   "metadata": {},
   "outputs": [],
   "source": [
    "def save_all_data(all_pos, colours):\n",
    "    all_pos = np.array(all_pos)\n",
    "    lat = all_pos[:, 0]\n",
    "    lon = all_pos[:, 1]\n",
    "\n",
    "    all_data = pd.DataFrame({\"lat\": lat, \"long\": lon, \"color\": colours})\n",
    "\n",
    "    all_data.to_csv(f\"../output/{str(date.today())}.csv\")"
   ]
  },
  {
   "cell_type": "code",
   "execution_count": null,
   "metadata": {},
   "outputs": [],
   "source": [
    "def update_html_style_and_title():\n",
    "\n",
    "    with open(\"../index.html\", \"r\") as f:\n",
    "        soup = BeautifulSoup(f, \"html.parser\")\n",
    "\n",
    "    new_div = soup.new_tag(\"div\")\n",
    "    new_div.string = \"Keep Exploring.\"\n",
    "\n",
    "    new_style = soup.new_tag(\"style\")\n",
    "\n",
    "    new_style.string = (\n",
    "        f\"#{soup.find('div', {'class': 'folium-map'})['id']}\"\n",
    "        + \"\"\"{\n",
    "                position: relative;\n",
    "                width: 100.0%;\n",
    "                height: 80.0%;\n",
    "                left: 0.0%;\n",
    "                top: 0.0%;\n",
    "            }\n",
    "        \"\"\"\n",
    "    )\n",
    "    soup.head.append(new_style)\n",
    "\n",
    "    soup.head.style.append(\n",
    "        \"body {background-color: #090909; color: white; font-size: 7vw; text-align: center;}\"\n",
    "    )\n",
    "\n",
    "    new_div = soup.new_tag(\"div\")\n",
    "    new_div.string = \"Keep Exploring.\"\n",
    "    soup.body.insert(0, new_div)\n",
    "\n",
    "    with open(\"../index.html\", \"w\") as file:\n",
    "        file.write(str(soup))"
   ]
  },
  {
   "cell_type": "markdown",
   "metadata": {},
   "source": [
    "## Plot"
   ]
  },
  {
   "cell_type": "code",
   "execution_count": null,
   "metadata": {},
   "outputs": [],
   "source": [
    "m = folium.Map(\n",
    "    location=[51.2412, -0.5744],\n",
    "    zoom_start=14,\n",
    "    tiles=\"https://{s}.basemaps.cartocdn.com/dark_nolabels/{z}/{x}/{y}{r}.png\",\n",
    "    attr='&copy; <a href=\"https://www.openstreetmap.org/copyright\">OpenStreetMap</a> contributors &copy; <a href=\"https://carto.com/attributions\">CARTO</a>',\n",
    ")"
   ]
  },
  {
   "cell_type": "code",
   "execution_count": null,
   "metadata": {},
   "outputs": [],
   "source": [
    "all_pos = load_all_routes()\n",
    "colours = compute_colours(all_pos)\n",
    "\n",
    "folium.ColorLine(\n",
    "    all_pos, colors=colours, colormap=cm.linear.YlOrBr_04, weight=2\n",
    ").add_to(m)"
   ]
  },
  {
   "cell_type": "code",
   "execution_count": null,
   "metadata": {
    "scrolled": false
   },
   "outputs": [],
   "source": [
    "m"
   ]
  },
  {
   "cell_type": "code",
   "execution_count": null,
   "metadata": {},
   "outputs": [],
   "source": [
    "m.save(\"../index.html\")\n",
    "save_all_data(all_pos, colours)"
   ]
  },
  {
   "cell_type": "code",
   "execution_count": null,
   "metadata": {},
   "outputs": [],
   "source": [
    "update_html_style_and_title()"
   ]
  }
 ],
 "metadata": {
  "kernelspec": {
   "display_name": "Python 3",
   "language": "python",
   "name": "python3"
  },
  "language_info": {
   "codemirror_mode": {
    "name": "ipython",
    "version": 3
   },
   "file_extension": ".py",
   "mimetype": "text/x-python",
   "name": "python",
   "nbconvert_exporter": "python",
   "pygments_lexer": "ipython3",
   "version": "3.7.4"
  }
 },
 "nbformat": 4,
 "nbformat_minor": 4
}
